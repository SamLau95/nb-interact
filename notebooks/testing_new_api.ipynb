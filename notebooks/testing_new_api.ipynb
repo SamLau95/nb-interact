{
 "cells": [
  {
   "cell_type": "code",
   "execution_count": 1,
   "metadata": {},
   "outputs": [],
   "source": [
    "import bqplot as bq\n",
    "import numpy as np\n",
    "import nbinteract as nbi\n",
    "import ipywidgets as widgets\n",
    "import toolz as tz\n",
    "from importlib import reload \n",
    "import IPython.display"
   ]
  },
  {
   "cell_type": "code",
   "execution_count": 2,
   "metadata": {},
   "outputs": [],
   "source": [
    "def x_intercept1(x_coord):\n",
    "    return [x_coord, x_coord]\n",
    "def x_intercept2(x_coord):\n",
    "    return [x_coord+5, x_coord+5]\n",
    "def y_points(y_coord):\n",
    "    return [0, y_coord]"
   ]
  },
  {
   "cell_type": "code",
   "execution_count": 3,
   "metadata": {},
   "outputs": [],
   "source": [
    "# could have them make the widget first and just plug in...... instead of having widgets list"
   ]
  },
  {
   "cell_type": "code",
   "execution_count": 4,
   "metadata": {},
   "outputs": [
    {
     "data": {
      "application/vnd.jupyter.widget-view+json": {
       "model_id": "1fe5e74b21d649f99044ac67a0937427",
       "version_major": 2,
       "version_minor": 0
      },
      "text/html": [
       "<p>Failed to display Jupyter Widget of type <code>VBox</code>.</p>\n",
       "<p>\n",
       "  If you're reading this message in the Jupyter Notebook or JupyterLab Notebook, it may mean\n",
       "  that the widgets JavaScript is still loading. If this message persists, it\n",
       "  likely means that the widgets JavaScript library is either not installed or\n",
       "  not enabled. See the <a href=\"https://ipywidgets.readthedocs.io/en/stable/user_install.html\">Jupyter\n",
       "  Widgets Documentation</a> for setup instructions.\n",
       "</p>\n",
       "<p>\n",
       "  If you're reading this message in another frontend (for example, a static\n",
       "  rendering on GitHub or <a href=\"https://nbviewer.jupyter.org/\">NBViewer</a>),\n",
       "  it may mean that your frontend doesn't currently support widgets.\n",
       "</p>\n"
      ],
      "text/plain": [
       "VBox(children=(IntSlider(value=5, description='x_coord', max=10), IntSlider(value=5, description='y_coord', max=10), Figure(axes=[Axis(scale=LinearScale(max=20.0, min=0.0)), Axis(orientation='vertical', scale=LinearScale(max=20.0, min=0.0))], fig_margin={'top': 60, 'bottom': 60, 'left': 60, 'right': 60}, layout=Layout(min_width='125px'), marks=[Lines(colors=['#475A77'], interactions={'hover': 'tooltip'}, scales={'x': LinearScale(max=20.0, min=0.0), 'y': LinearScale(max=20.0, min=0.0)}, scales_metadata={'x': {'orientation': 'horizontal', 'dimension': 'x'}, 'y': {'orientation': 'vertical', 'dimension': 'y'}, 'color': {'dimension': 'color'}}, tooltip_style={'opacity': 0.9}, x=array([5, 5]), y=array([0, 5])), Lines(colors=['#475A77'], interactions={'hover': 'tooltip'}, scales={'x': LinearScale(max=20.0, min=0.0), 'y': LinearScale(max=20.0, min=0.0)}, scales_metadata={'x': {'orientation': 'horizontal', 'dimension': 'x'}, 'y': {'orientation': 'vertical', 'dimension': 'y'}, 'color': {'dimension': 'color'}}, tooltip_style={'opacity': 0.9}, x=array([10, 10]), y=array([0, 5]))], scale_x=LinearScale(allow_padding=False, max=1.0, min=0.0), scale_y=LinearScale(allow_padding=False, max=1.0, min=0.0))))"
      ]
     },
     "metadata": {},
     "output_type": "display_data"
    }
   ],
   "source": [
    "nbi.Plot(\n",
    "    options = {'xlim': (0, 20), 'ylim':(0,20)},\n",
    "    widgets={'widget_x': widgets.IntSlider(5, 0, 10), 'widget_y': widgets.IntSlider(5, 0, 10)},\n",
    "    functions={x_intercept1: ['widget_x'], x_intercept2:['widget_x'], y_points:['widget_y']},\n",
    "    marks={'line1': nbi.Line(x_intercept1, y_points),\n",
    "           'line2': nbi.Line(x_intercept2, y_points)}\n",
    "    )"
   ]
  },
  {
   "cell_type": "code",
   "execution_count": 5,
   "metadata": {},
   "outputs": [],
   "source": [
    "def gen_random(n_points):\n",
    "    return np.random.normal(size=n_points)"
   ]
  },
  {
   "cell_type": "code",
   "execution_count": 6,
   "metadata": {},
   "outputs": [
    {
     "data": {
      "application/vnd.jupyter.widget-view+json": {
       "model_id": "15f193247f6742e6b5b985d850e4a3fc",
       "version_major": 2,
       "version_minor": 0
      },
      "text/html": [
       "<p>Failed to display Jupyter Widget of type <code>VBox</code>.</p>\n",
       "<p>\n",
       "  If you're reading this message in the Jupyter Notebook or JupyterLab Notebook, it may mean\n",
       "  that the widgets JavaScript is still loading. If this message persists, it\n",
       "  likely means that the widgets JavaScript library is either not installed or\n",
       "  not enabled. See the <a href=\"https://ipywidgets.readthedocs.io/en/stable/user_install.html\">Jupyter\n",
       "  Widgets Documentation</a> for setup instructions.\n",
       "</p>\n",
       "<p>\n",
       "  If you're reading this message in another frontend (for example, a static\n",
       "  rendering on GitHub or <a href=\"https://nbviewer.jupyter.org/\">NBViewer</a>),\n",
       "  it may mean that your frontend doesn't currently support widgets.\n",
       "</p>\n"
      ],
      "text/plain": [
       "VBox(children=(IntSlider(value=5, description='n_points', max=20), Figure(axes=[Axis(scale=LinearScale()), Axis(orientation='vertical', scale=LinearScale())], fig_margin={'top': 60, 'bottom': 60, 'left': 60, 'right': 60}, layout=Layout(min_width='125px'), marks=[Hist(colors=['#475A77'], interactions={'hover': 'tooltip'}, normalized=True, sample=array([ 0.22162178, -0.48327817, -0.19614141,  1.08559097,  1.95376581]), scales={'sample': LinearScale(), 'count': LinearScale()}, scales_metadata={'sample': {'orientation': 'horizontal', 'dimension': 'x'}, 'count': {'orientation': 'vertical', 'dimension': 'y'}}, stroke='#475A77', tooltip_style={'opacity': 0.9})], scale_x=LinearScale(allow_padding=False, max=1.0, min=0.0), scale_y=LinearScale(allow_padding=False, max=1.0, min=0.0))))"
      ]
     },
     "metadata": {},
     "output_type": "display_data"
    }
   ],
   "source": [
    "nbi.Plot(\n",
    "#     options = {'xlim': (0, 20), 'ylim':(0,20)},\n",
    "    widgets={'widget_x': widgets.IntSlider(5, 0, 20)},\n",
    "    functions={gen_random: ['widget_x']},\n",
    "    marks={'hist1': nbi.Hist(gen_random)}\n",
    "    )"
   ]
  },
  {
   "cell_type": "code",
   "execution_count": 7,
   "metadata": {},
   "outputs": [],
   "source": [
    "def categories(n): return np.arange(n)\n",
    "def heights(n, offset):    \n",
    "    return np.arange(n) + offset"
   ]
  },
  {
   "cell_type": "code",
   "execution_count": 8,
   "metadata": {},
   "outputs": [
    {
     "data": {
      "application/vnd.jupyter.widget-view+json": {
       "model_id": "0a4ba83e1dd346b18b2544750db70eb6",
       "version_major": 2,
       "version_minor": 0
      },
      "text/html": [
       "<p>Failed to display Jupyter Widget of type <code>VBox</code>.</p>\n",
       "<p>\n",
       "  If you're reading this message in the Jupyter Notebook or JupyterLab Notebook, it may mean\n",
       "  that the widgets JavaScript is still loading. If this message persists, it\n",
       "  likely means that the widgets JavaScript library is either not installed or\n",
       "  not enabled. See the <a href=\"https://ipywidgets.readthedocs.io/en/stable/user_install.html\">Jupyter\n",
       "  Widgets Documentation</a> for setup instructions.\n",
       "</p>\n",
       "<p>\n",
       "  If you're reading this message in another frontend (for example, a static\n",
       "  rendering on GitHub or <a href=\"https://nbviewer.jupyter.org/\">NBViewer</a>),\n",
       "  it may mean that your frontend doesn't currently support widgets.\n",
       "</p>\n"
      ],
      "text/plain": [
       "VBox(children=(IntSlider(value=5, description='n', max=10), IntSlider(value=5, description='offset', max=10), Figure(axes=[Axis(scale=LinearScale(max=20.0, min=0.0)), Axis(orientation='vertical', scale=LinearScale(max=20.0, min=0.0))], fig_margin={'top': 60, 'bottom': 60, 'left': 60, 'right': 60}, layout=Layout(min_width='125px'), marks=[Bars(colors=['#475A77'], interactions={'hover': 'tooltip'}, scales={'x': LinearScale(max=20.0, min=0.0), 'y': LinearScale(max=20.0, min=0.0)}, scales_metadata={'x': {'orientation': 'horizontal', 'dimension': 'x'}, 'y': {'orientation': 'vertical', 'dimension': 'y'}, 'color': {'dimension': 'color'}}, stroke='#475A77', tooltip_style={'opacity': 0.9}, x=array([0, 1, 2, 3, 4]), y=array([5, 6, 7, 8, 9]))], scale_x=LinearScale(allow_padding=False, max=1.0, min=0.0), scale_y=LinearScale(allow_padding=False, max=1.0, min=0.0))))"
      ]
     },
     "metadata": {},
     "output_type": "display_data"
    }
   ],
   "source": [
    "nbi.Plot(\n",
    "    options = {'xlim': (0, 20), 'ylim':(0,20)},\n",
    "    widgets={'widget_x': widgets.IntSlider(5, 0, 10), 'widget_y': widgets.IntSlider(5, 0, 10)},\n",
    "    functions={categories: ['widget_x'], heights:['widget_x', 'widget_y']},\n",
    "    marks={'bar1': nbi.Bar(categories, heights)}\n",
    "    )"
   ]
  },
  {
   "cell_type": "code",
   "execution_count": 9,
   "metadata": {},
   "outputs": [],
   "source": [
    "def x_values(n): return np.random.choice(100, n)\n",
    "def y_values(n): return np.random.choice(100, n)"
   ]
  },
  {
   "cell_type": "code",
   "execution_count": 10,
   "metadata": {},
   "outputs": [
    {
     "data": {
      "application/vnd.jupyter.widget-view+json": {
       "model_id": "c434fe6fef804a208ee51c38e5acda33",
       "version_major": 2,
       "version_minor": 0
      },
      "text/html": [
       "<p>Failed to display Jupyter Widget of type <code>VBox</code>.</p>\n",
       "<p>\n",
       "  If you're reading this message in the Jupyter Notebook or JupyterLab Notebook, it may mean\n",
       "  that the widgets JavaScript is still loading. If this message persists, it\n",
       "  likely means that the widgets JavaScript library is either not installed or\n",
       "  not enabled. See the <a href=\"https://ipywidgets.readthedocs.io/en/stable/user_install.html\">Jupyter\n",
       "  Widgets Documentation</a> for setup instructions.\n",
       "</p>\n",
       "<p>\n",
       "  If you're reading this message in another frontend (for example, a static\n",
       "  rendering on GitHub or <a href=\"https://nbviewer.jupyter.org/\">NBViewer</a>),\n",
       "  it may mean that your frontend doesn't currently support widgets.\n",
       "</p>\n"
      ],
      "text/plain": [
       "VBox(children=(IntSlider(value=5, description='n', max=50), Figure(axes=[Axis(scale=LinearScale(max=100.0, min=0.0)), Axis(orientation='vertical', scale=LinearScale(max=100.0, min=0.0))], fig_margin={'top': 60, 'bottom': 60, 'left': 60, 'right': 60}, layout=Layout(min_width='125px'), marks=[Scatter(colors=['#475A77'], interactions={'hover': 'tooltip'}, scales={'x': LinearScale(max=100.0, min=0.0), 'y': LinearScale(max=100.0, min=0.0)}, scales_metadata={'x': {'orientation': 'horizontal', 'dimension': 'x'}, 'y': {'orientation': 'vertical', 'dimension': 'y'}, 'color': {'dimension': 'color'}, 'size': {'dimension': 'size'}, 'opacity': {'dimension': 'opacity'}, 'rotation': {'dimension': 'rotation'}, 'skew': {'dimension': 'skew'}}, stroke='#475A77', tooltip_style={'opacity': 0.9}, x=array([34, 18, 37, 13, 33]), y=array([72, 32,  6, 51, 77]))], scale_x=LinearScale(allow_padding=False, max=1.0, min=0.0), scale_y=LinearScale(allow_padding=False, max=1.0, min=0.0))))"
      ]
     },
     "metadata": {},
     "output_type": "display_data"
    }
   ],
   "source": [
    "nbi.Plot(\n",
    "    options = {'xlim': (0, 100), 'ylim':(0,100)},\n",
    "    widgets={'widget_x': widgets.IntSlider(5, 0, 50)},\n",
    "    functions={x_values: ['widget_x'], y_values: ['widget_x']},\n",
    "    marks={'scat1': nbi.Scatter(x_values, y_values)}\n",
    "    )"
   ]
  }
 ],
 "metadata": {
  "kernelspec": {
   "display_name": "Python 3",
   "language": "python",
   "name": "python3"
  },
  "language_info": {
   "codemirror_mode": {
    "name": "ipython",
    "version": 3
   },
   "file_extension": ".py",
   "mimetype": "text/x-python",
   "name": "python",
   "nbconvert_exporter": "python",
   "pygments_lexer": "ipython3",
   "version": "3.6.2"
  }
 },
 "nbformat": 4,
 "nbformat_minor": 2
}
