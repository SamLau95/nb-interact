{
 "cells": [
  {
   "cell_type": "code",
   "execution_count": 1,
   "metadata": {},
   "outputs": [],
   "source": [
    "import bqplot as bq\n",
    "import numpy as np\n",
    "import nbinteract as nbi\n",
    "import ipywidgets as widgets\n",
    "import toolz as tz\n",
    "from importlib import reload \n",
    "import IPython.display"
   ]
  },
  {
   "cell_type": "code",
   "execution_count": 1,
   "metadata": {},
   "outputs": [],
   "source": [
    "from ipywidgets import Box"
   ]
  },
  {
   "cell_type": "code",
   "execution_count": 2,
   "metadata": {},
   "outputs": [
    {
     "data": {
      "text/plain": [
       "ipywidgets.widgets.widget_box.Box"
      ]
     },
     "execution_count": 2,
     "metadata": {},
     "output_type": "execute_result"
    }
   ],
   "source": [
    "Box"
   ]
  },
  {
   "cell_type": "code",
   "execution_count": 3,
   "metadata": {},
   "outputs": [],
   "source": [
    "int1_slider = widgets.IntSlider(5,0,10)\n",
    "int2_slider = widgets.IntSlider(5,0,10)"
   ]
  },
  {
   "cell_type": "code",
   "execution_count": 4,
   "metadata": {},
   "outputs": [],
   "source": [
    "def x_intercept1(x_coord):\n",
    "    return [x_coord, x_coord]\n",
    "def x_intercept2(x_coord):\n",
    "    return [x_coord+5, x_coord+5]\n",
    "def y_points(y_coord):\n",
    "    return [0, y_coord]\n",
    "\n",
    "def test_both(x1, x2):\n",
    "    return [x2, x1]"
   ]
  },
  {
   "cell_type": "code",
   "execution_count": 5,
   "metadata": {},
   "outputs": [],
   "source": [
    "# could have them make the widget first and just plug in...... instead of having widgets list"
   ]
  },
  {
   "cell_type": "code",
   "execution_count": 6,
   "metadata": {},
   "outputs": [
    {
     "data": {
      "application/vnd.jupyter.widget-view+json": {
       "model_id": "af2abf595cee4254aed6a6b564e5206b",
       "version_major": 2,
       "version_minor": 0
      },
      "text/html": [
       "<p>Failed to display Jupyter Widget of type <code>VBox</code>.</p>\n",
       "<p>\n",
       "  If you're reading this message in the Jupyter Notebook or JupyterLab Notebook, it may mean\n",
       "  that the widgets JavaScript is still loading. If this message persists, it\n",
       "  likely means that the widgets JavaScript library is either not installed or\n",
       "  not enabled. See the <a href=\"https://ipywidgets.readthedocs.io/en/stable/user_install.html\">Jupyter\n",
       "  Widgets Documentation</a> for setup instructions.\n",
       "</p>\n",
       "<p>\n",
       "  If you're reading this message in another frontend (for example, a static\n",
       "  rendering on GitHub or <a href=\"https://nbviewer.jupyter.org/\">NBViewer</a>),\n",
       "  it may mean that your frontend doesn't currently support widgets.\n",
       "</p>\n"
      ],
      "text/plain": [
       "VBox(children=(IntSlider(value=5, max=10), IntSlider(value=5, max=10), IntSlider(value=5, max=10), Figure(axes=[Axis(scale=LinearScale(max=20.0, min=0.0)), Axis(orientation='vertical', scale=LinearScale(max=20.0, min=0.0))], fig_margin={'top': 60, 'bottom': 60, 'left': 60, 'right': 60}, layout=Layout(min_width='125px'), marks=[Lines(colors=['#475A77'], interactions={'hover': 'tooltip'}, scales={'x': LinearScale(max=20.0, min=0.0), 'y': LinearScale(max=20.0, min=0.0)}, scales_metadata={'x': {'orientation': 'horizontal', 'dimension': 'x'}, 'y': {'orientation': 'vertical', 'dimension': 'y'}, 'color': {'dimension': 'color'}}, tooltip_style={'opacity': 0.9}, x=array([5, 5]), y=array([0, 5])), Lines(colors=['#475A77'], interactions={'hover': 'tooltip'}, scales={'x': LinearScale(max=20.0, min=0.0), 'y': LinearScale(max=20.0, min=0.0)}, scales_metadata={'x': {'orientation': 'horizontal', 'dimension': 'x'}, 'y': {'orientation': 'vertical', 'dimension': 'y'}, 'color': {'dimension': 'color'}}, tooltip_style={'opacity': 0.9}, x=array([10, 10]), y=array([0, 5]))], scale_x=LinearScale(allow_padding=False, max=1.0, min=0.0), scale_y=LinearScale(allow_padding=False, max=1.0, min=0.0))))"
      ]
     },
     "metadata": {},
     "output_type": "display_data"
    }
   ],
   "source": [
    "nbi.Figure(\n",
    "    options = {'xlim': (0, 20), 'ylim':(0,20)},\n",
    "    widgets={'widget_x': widgets.IntSlider(5,0,10), 'widget_y': widgets.IntSlider(5,0,10), 'widget_z': widgets.IntSlider(5,0,10)},\n",
    "    functions={x_intercept1: ['widget_x'], x_intercept2:['widget_x'], y_points:['widget_y'], test_both: ['widget_x', 'widget_z']},\n",
    "    marks={'line1': nbi.Line(x_intercept1, y_points),\n",
    "           'line2': nbi.Line(x_intercept2, y_points),\n",
    "#            'line4': nbi.Scatter(test_both, test_both)\n",
    "          }\n",
    "           )\n"
   ]
  },
  {
   "cell_type": "code",
   "execution_count": 7,
   "metadata": {},
   "outputs": [],
   "source": [
    "def gen_random(n_points):\n",
    "    return np.random.normal(size=n_points)"
   ]
  },
  {
   "cell_type": "code",
   "execution_count": 8,
   "metadata": {},
   "outputs": [
    {
     "data": {
      "application/vnd.jupyter.widget-view+json": {
       "model_id": "c63ecc826b77471e970f618fa8c5c756",
       "version_major": 2,
       "version_minor": 0
      },
      "text/html": [
       "<p>Failed to display Jupyter Widget of type <code>VBox</code>.</p>\n",
       "<p>\n",
       "  If you're reading this message in the Jupyter Notebook or JupyterLab Notebook, it may mean\n",
       "  that the widgets JavaScript is still loading. If this message persists, it\n",
       "  likely means that the widgets JavaScript library is either not installed or\n",
       "  not enabled. See the <a href=\"https://ipywidgets.readthedocs.io/en/stable/user_install.html\">Jupyter\n",
       "  Widgets Documentation</a> for setup instructions.\n",
       "</p>\n",
       "<p>\n",
       "  If you're reading this message in another frontend (for example, a static\n",
       "  rendering on GitHub or <a href=\"https://nbviewer.jupyter.org/\">NBViewer</a>),\n",
       "  it may mean that your frontend doesn't currently support widgets.\n",
       "</p>\n"
      ],
      "text/plain": [
       "VBox(children=(IntSlider(value=5, max=20), Figure(axes=[Axis(scale=LinearScale()), Axis(orientation='vertical', scale=LinearScale())], fig_margin={'top': 60, 'bottom': 60, 'left': 60, 'right': 60}, layout=Layout(min_width='125px'), marks=[Hist(colors=['#475A77'], interactions={'hover': 'tooltip'}, normalized=True, sample=array([-0.64440033, -0.18423918, -1.24245617, -0.95897746, -0.95063307]), scales={'sample': LinearScale(), 'count': LinearScale()}, scales_metadata={'sample': {'orientation': 'horizontal', 'dimension': 'x'}, 'count': {'orientation': 'vertical', 'dimension': 'y'}}, stroke='#475A77', tooltip_style={'opacity': 0.9})], scale_x=LinearScale(allow_padding=False, max=1.0, min=0.0), scale_y=LinearScale(allow_padding=False, max=1.0, min=0.0))))"
      ]
     },
     "metadata": {},
     "output_type": "display_data"
    }
   ],
   "source": [
    "nbi.Figure(\n",
    "#     options = {'xlim': (0, 20), 'ylim':(0,20)},\n",
    "    widgets={'widget_x': widgets.IntSlider(5, 0, 20)},\n",
    "    functions={gen_random: ['widget_x']},\n",
    "    marks={'hist1': nbi.Hist(gen_random)}\n",
    "    )"
   ]
  },
  {
   "cell_type": "code",
   "execution_count": 9,
   "metadata": {},
   "outputs": [],
   "source": [
    "def categories(n): return np.arange(n)\n",
    "def heights(n, offset):    \n",
    "    return np.arange(n) + offset"
   ]
  },
  {
   "cell_type": "code",
   "execution_count": 10,
   "metadata": {
    "scrolled": true
   },
   "outputs": [
    {
     "data": {
      "application/vnd.jupyter.widget-view+json": {
       "model_id": "e2f193e391d6448ab3139abb9df97fdb",
       "version_major": 2,
       "version_minor": 0
      },
      "text/html": [
       "<p>Failed to display Jupyter Widget of type <code>VBox</code>.</p>\n",
       "<p>\n",
       "  If you're reading this message in the Jupyter Notebook or JupyterLab Notebook, it may mean\n",
       "  that the widgets JavaScript is still loading. If this message persists, it\n",
       "  likely means that the widgets JavaScript library is either not installed or\n",
       "  not enabled. See the <a href=\"https://ipywidgets.readthedocs.io/en/stable/user_install.html\">Jupyter\n",
       "  Widgets Documentation</a> for setup instructions.\n",
       "</p>\n",
       "<p>\n",
       "  If you're reading this message in another frontend (for example, a static\n",
       "  rendering on GitHub or <a href=\"https://nbviewer.jupyter.org/\">NBViewer</a>),\n",
       "  it may mean that your frontend doesn't currently support widgets.\n",
       "</p>\n"
      ],
      "text/plain": [
       "VBox(children=(IntSlider(value=5, max=10), IntSlider(value=5, max=10), Figure(axes=[Axis(scale=LinearScale(max=20.0, min=0.0)), Axis(orientation='vertical', scale=LinearScale(max=20.0, min=0.0))], fig_margin={'top': 60, 'bottom': 60, 'left': 60, 'right': 60}, layout=Layout(min_width='125px'), marks=[Bars(colors=['#475A77'], interactions={'hover': 'tooltip'}, scales={'x': LinearScale(max=20.0, min=0.0), 'y': LinearScale(max=20.0, min=0.0)}, scales_metadata={'x': {'orientation': 'horizontal', 'dimension': 'x'}, 'y': {'orientation': 'vertical', 'dimension': 'y'}, 'color': {'dimension': 'color'}}, stroke='#475A77', tooltip_style={'opacity': 0.9}, x=array([0, 1, 2, 3, 4]), y=array([5, 6, 7, 8, 9]))], scale_x=LinearScale(allow_padding=False, max=1.0, min=0.0), scale_y=LinearScale(allow_padding=False, max=1.0, min=0.0))))"
      ]
     },
     "metadata": {},
     "output_type": "display_data"
    }
   ],
   "source": [
    "nbi.Figure(\n",
    "    options = {'xlim': (0, 20), 'ylim':(0,20)},\n",
    "    widgets={'widget_x': widgets.IntSlider(5, 0, 10), 'widget_y': widgets.IntSlider(5, 0, 10)},\n",
    "    functions={categories: ['widget_x'], heights:['widget_x', 'widget_y']},\n",
    "    marks={'bar1': nbi.Bar(categories, heights)}\n",
    "    )"
   ]
  },
  {
   "cell_type": "code",
   "execution_count": 11,
   "metadata": {},
   "outputs": [],
   "source": [
    "def x_values(n): return np.random.choice(100, n)\n",
    "def y_values(n): return np.random.choice(100, n)\n"
   ]
  },
  {
   "cell_type": "code",
   "execution_count": 12,
   "metadata": {},
   "outputs": [
    {
     "data": {
      "application/vnd.jupyter.widget-view+json": {
       "model_id": "79fbb8cbabaa476d94dc3b8d96c836a5",
       "version_major": 2,
       "version_minor": 0
      },
      "text/html": [
       "<p>Failed to display Jupyter Widget of type <code>VBox</code>.</p>\n",
       "<p>\n",
       "  If you're reading this message in the Jupyter Notebook or JupyterLab Notebook, it may mean\n",
       "  that the widgets JavaScript is still loading. If this message persists, it\n",
       "  likely means that the widgets JavaScript library is either not installed or\n",
       "  not enabled. See the <a href=\"https://ipywidgets.readthedocs.io/en/stable/user_install.html\">Jupyter\n",
       "  Widgets Documentation</a> for setup instructions.\n",
       "</p>\n",
       "<p>\n",
       "  If you're reading this message in another frontend (for example, a static\n",
       "  rendering on GitHub or <a href=\"https://nbviewer.jupyter.org/\">NBViewer</a>),\n",
       "  it may mean that your frontend doesn't currently support widgets.\n",
       "</p>\n"
      ],
      "text/plain": [
       "VBox(children=(IntSlider(value=5, max=50), Figure(axes=[Axis(scale=LinearScale(max=100.0, min=0.0)), Axis(orientation='vertical', scale=LinearScale(max=100.0, min=0.0))], fig_margin={'top': 60, 'bottom': 60, 'left': 60, 'right': 60}, layout=Layout(min_width='125px'), marks=[Scatter(colors=['#475A77'], interactions={'hover': 'tooltip'}, scales={'x': LinearScale(max=100.0, min=0.0), 'y': LinearScale(max=100.0, min=0.0)}, scales_metadata={'x': {'orientation': 'horizontal', 'dimension': 'x'}, 'y': {'orientation': 'vertical', 'dimension': 'y'}, 'color': {'dimension': 'color'}, 'size': {'dimension': 'size'}, 'opacity': {'dimension': 'opacity'}, 'rotation': {'dimension': 'rotation'}, 'skew': {'dimension': 'skew'}}, stroke='#475A77', tooltip_style={'opacity': 0.9}, x=array([33, 83, 75, 36, 26]), y=array([ 2, 30, 48, 35, 91]))], scale_x=LinearScale(allow_padding=False, max=1.0, min=0.0), scale_y=LinearScale(allow_padding=False, max=1.0, min=0.0))))"
      ]
     },
     "metadata": {},
     "output_type": "display_data"
    }
   ],
   "source": [
    "nbi.Figure(\n",
    "    options = {'xlim': (0, 100), 'ylim':(0,100)},\n",
    "    widgets={'widget_x': widgets.IntSlider(5, 0, 50)},\n",
    "    functions={x_values: ['widget_x'], y_values: ['widget_x']},\n",
    "    marks={'scat1': nbi.Scatter(x_values, y_values)}\n",
    "    )"
   ]
  },
  {
   "cell_type": "markdown",
   "metadata": {},
   "source": [
    "# Building the Convexity Demo"
   ]
  },
  {
   "cell_type": "code",
   "execution_count": 13,
   "metadata": {},
   "outputs": [],
   "source": [
    "xs = np.arange(-10, 10, 0.1)\n",
    "def f(xs):\n",
    "    return xs**2 + 2*xs + 3\n",
    "\n",
    "x1_slider = widgets.FloatSlider(value=2, min=-10, max=10, step=0.1)\n",
    "x2_slider = widgets.FloatSlider(value=8, min=-10, max=10, step=0.1)\n",
    "lambda_slider = widgets.FloatSlider(value=0.5, min=0, max=1)\n",
    "\n",
    "def x1_x(x):\n",
    "    return [x]\n",
    "\n",
    "def x1_y(x):\n",
    "    return [f(x)]\n",
    "\n",
    "def x2_x(x):\n",
    "    return [x]\n",
    "\n",
    "def x2_y(x):\n",
    "    return [f(x)]\n",
    "\n",
    "def line_xs(x1, x2):\n",
    "    return [x1, x2]\n",
    "\n",
    "def line_ys(x1, x2):\n",
    "    return [f(x1), f(x2)]\n",
    "\n",
    "def line_x1(x1):\n",
    "    return [x1, x1]\n",
    "\n",
    "def line_x2(x2):\n",
    "    return [x2, x2]\n",
    "\n",
    "def line_y1(x1):\n",
    "    return [-50, f(x1)]\n",
    "\n",
    "def line_y2(x2):\n",
    "    return [-50, f(x2)]\n",
    "\n",
    "def lambda_x(x1, x2, lamb):\n",
    "    return [lamb*x1 + (1-lamb)*x2, lamb*x1+(1-lamb)*x2]\n",
    "\n",
    "def lambda_y(x1, x2, lamb):\n",
    "    return [(f(x1)*lamb+ f(x2)*(1-lamb)), f(lamb*x1+(1-lamb)*x2)]"
   ]
  },
  {
   "cell_type": "code",
   "execution_count": 14,
   "metadata": {
    "scrolled": true
   },
   "outputs": [
    {
     "data": {
      "application/vnd.jupyter.widget-view+json": {
       "model_id": "80c2558492f9474f97dd9f5d6e279c33",
       "version_major": 2,
       "version_minor": 0
      },
      "text/html": [
       "<p>Failed to display Jupyter Widget of type <code>VBox</code>.</p>\n",
       "<p>\n",
       "  If you're reading this message in the Jupyter Notebook or JupyterLab Notebook, it may mean\n",
       "  that the widgets JavaScript is still loading. If this message persists, it\n",
       "  likely means that the widgets JavaScript library is either not installed or\n",
       "  not enabled. See the <a href=\"https://ipywidgets.readthedocs.io/en/stable/user_install.html\">Jupyter\n",
       "  Widgets Documentation</a> for setup instructions.\n",
       "</p>\n",
       "<p>\n",
       "  If you're reading this message in another frontend (for example, a static\n",
       "  rendering on GitHub or <a href=\"https://nbviewer.jupyter.org/\">NBViewer</a>),\n",
       "  it may mean that your frontend doesn't currently support widgets.\n",
       "</p>\n"
      ],
      "text/plain": [
       "VBox(children=(FloatSlider(value=2.0, max=10.0, min=-10.0), FloatSlider(value=8.0, max=10.0, min=-10.0), FloatSlider(value=0.5, max=1.0), Figure(axes=[Axis(scale=LinearScale(max=10.0, min=-10.0)), Axis(orientation='vertical', scale=LinearScale(max=150.0, min=-50.0))], fig_margin={'top': 60, 'bottom': 60, 'left': 60, 'right': 60}, layout=Layout(min_width='125px'), marks=[Lines(colors=['#475A77'], interactions={'hover': 'tooltip'}, scales={'x': LinearScale(max=10.0, min=-10.0), 'y': LinearScale(max=150.0, min=-50.0)}, scales_metadata={'x': {'orientation': 'horizontal', 'dimension': 'x'}, 'y': {'orientation': 'vertical', 'dimension': 'y'}, 'color': {'dimension': 'color'}}, tooltip_style={'opacity': 0.9}, x=array([-1.00000000e+01, -9.90000000e+00, -9.80000000e+00, -9.70000000e+00,\n",
       "       -9.60000000e+00, -9.50000000e+00, -9.40000000e+00, -9.30000000e+00,\n",
       "       -9.20000000e+00, -9.10000000e+00, -9.00000000e+00, -8.90000000e+00,\n",
       "       -8.80000000e+00, -8.70000000e+00, -8.60000000e+00, -8.50000000e+00,\n",
       "       -8.40000000e+00, -8.30000000e+00, -8.20000000e+00, -8.10000000e+00,\n",
       "       -8.00000000e+00, -7.90000000e+00, -7.80000000e+00, -7.70000000e+00,\n",
       "       -7.60000000e+00, -7.50000000e+00, -7.40000000e+00, -7.30000000e+00,\n",
       "       -7.20000000e+00, -7.10000000e+00, -7.00000000e+00, -6.90000000e+00,\n",
       "       -6.80000000e+00, -6.70000000e+00, -6.60000000e+00, -6.50000000e+00,\n",
       "       -6.40000000e+00, -6.30000000e+00, -6.20000000e+00, -6.10000000e+00,\n",
       "       -6.00000000e+00, -5.90000000e+00, -5.80000000e+00, -5.70000000e+00,\n",
       "       -5.60000000e+00, -5.50000000e+00, -5.40000000e+00, -5.30000000e+00,\n",
       "       -5.20000000e+00, -5.10000000e+00, -5.00000000e+00, -4.90000000e+00,\n",
       "       -4.80000000e+00, -4.70000000e+00, -4.60000000e+00, -4.50000000e+00,\n",
       "       -4.40000000e+00, -4.30000000e+00, -4.20000000e+00, -4.10000000e+00,\n",
       "       -4.00000000e+00, -3.90000000e+00, -3.80000000e+00, -3.70000000e+00,\n",
       "       -3.60000000e+00, -3.50000000e+00, -3.40000000e+00, -3.30000000e+00,\n",
       "       -3.20000000e+00, -3.10000000e+00, -3.00000000e+00, -2.90000000e+00,\n",
       "       -2.80000000e+00, -2.70000000e+00, -2.60000000e+00, -2.50000000e+00,\n",
       "       -2.40000000e+00, -2.30000000e+00, -2.20000000e+00, -2.10000000e+00,\n",
       "       -2.00000000e+00, -1.90000000e+00, -1.80000000e+00, -1.70000000e+00,\n",
       "       -1.60000000e+00, -1.50000000e+00, -1.40000000e+00, -1.30000000e+00,\n",
       "       -1.20000000e+00, -1.10000000e+00, -1.00000000e+00, -9.00000000e-01,\n",
       "       -8.00000000e-01, -7.00000000e-01, -6.00000000e-01, -5.00000000e-01,\n",
       "       -4.00000000e-01, -3.00000000e-01, -2.00000000e-01, -1.00000000e-01,\n",
       "       -3.55271368e-14,  1.00000000e-01,  2.00000000e-01,  3.00000000e-01,\n",
       "        4.00000000e-01,  5.00000000e-01,  6.00000000e-01,  7.00000000e-01,\n",
       "        8.00000000e-01,  9.00000000e-01,  1.00000000e+00,  1.10000000e+00,\n",
       "        1.20000000e+00,  1.30000000e+00,  1.40000000e+00,  1.50000000e+00,\n",
       "        1.60000000e+00,  1.70000000e+00,  1.80000000e+00,  1.90000000e+00,\n",
       "        2.00000000e+00,  2.10000000e+00,  2.20000000e+00,  2.30000000e+00,\n",
       "        2.40000000e+00,  2.50000000e+00,  2.60000000e+00,  2.70000000e+00,\n",
       "        2.80000000e+00,  2.90000000e+00,  3.00000000e+00,  3.10000000e+00,\n",
       "        3.20000000e+00,  3.30000000e+00,  3.40000000e+00,  3.50000000e+00,\n",
       "        3.60000000e+00,  3.70000000e+00,  3.80000000e+00,  3.90000000e+00,\n",
       "        4.00000000e+00,  4.10000000e+00,  4.20000000e+00,  4.30000000e+00,\n",
       "        4.40000000e+00,  4.50000000e+00,  4.60000000e+00,  4.70000000e+00,\n",
       "        4.80000000e+00,  4.90000000e+00,  5.00000000e+00,  5.10000000e+00,\n",
       "        5.20000000e+00,  5.30000000e+00,  5.40000000e+00,  5.50000000e+00,\n",
       "        5.60000000e+00,  5.70000000e+00,  5.80000000e+00,  5.90000000e+00,\n",
       "        6.00000000e+00,  6.10000000e+00,  6.20000000e+00,  6.30000000e+00,\n",
       "        6.40000000e+00,  6.50000000e+00,  6.60000000e+00,  6.70000000e+00,\n",
       "        6.80000000e+00,  6.90000000e+00,  7.00000000e+00,  7.10000000e+00,\n",
       "        7.20000000e+00,  7.30000000e+00,  7.40000000e+00,  7.50000000e+00,\n",
       "        7.60000000e+00,  7.70000000e+00,  7.80000000e+00,  7.90000000e+00,\n",
       "        8.00000000e+00,  8.10000000e+00,  8.20000000e+00,  8.30000000e+00,\n",
       "        8.40000000e+00,  8.50000000e+00,  8.60000000e+00,  8.70000000e+00,\n",
       "        8.80000000e+00,  8.90000000e+00,  9.00000000e+00,  9.10000000e+00,\n",
       "        9.20000000e+00,  9.30000000e+00,  9.40000000e+00,  9.50000000e+00,\n",
       "        9.60000000e+00,  9.70000000e+00,  9.80000000e+00,  9.90000000e+00]), y=array([ 83.  ,  81.21,  79.44,  77.69,  75.96,  74.25,  72.56,  70.89,\n",
       "        69.24,  67.61,  66.  ,  64.41,  62.84,  61.29,  59.76,  58.25,\n",
       "        56.76,  55.29,  53.84,  52.41,  51.  ,  49.61,  48.24,  46.89,\n",
       "        45.56,  44.25,  42.96,  41.69,  40.44,  39.21,  38.  ,  36.81,\n",
       "        35.64,  34.49,  33.36,  32.25,  31.16,  30.09,  29.04,  28.01,\n",
       "        27.  ,  26.01,  25.04,  24.09,  23.16,  22.25,  21.36,  20.49,\n",
       "        19.64,  18.81,  18.  ,  17.21,  16.44,  15.69,  14.96,  14.25,\n",
       "        13.56,  12.89,  12.24,  11.61,  11.  ,  10.41,   9.84,   9.29,\n",
       "         8.76,   8.25,   7.76,   7.29,   6.84,   6.41,   6.  ,   5.61,\n",
       "         5.24,   4.89,   4.56,   4.25,   3.96,   3.69,   3.44,   3.21,\n",
       "         3.  ,   2.81,   2.64,   2.49,   2.36,   2.25,   2.16,   2.09,\n",
       "         2.04,   2.01,   2.  ,   2.01,   2.04,   2.09,   2.16,   2.25,\n",
       "         2.36,   2.49,   2.64,   2.81,   3.  ,   3.21,   3.44,   3.69,\n",
       "         3.96,   4.25,   4.56,   4.89,   5.24,   5.61,   6.  ,   6.41,\n",
       "         6.84,   7.29,   7.76,   8.25,   8.76,   9.29,   9.84,  10.41,\n",
       "        11.  ,  11.61,  12.24,  12.89,  13.56,  14.25,  14.96,  15.69,\n",
       "        16.44,  17.21,  18.  ,  18.81,  19.64,  20.49,  21.36,  22.25,\n",
       "        23.16,  24.09,  25.04,  26.01,  27.  ,  28.01,  29.04,  30.09,\n",
       "        31.16,  32.25,  33.36,  34.49,  35.64,  36.81,  38.  ,  39.21,\n",
       "        40.44,  41.69,  42.96,  44.25,  45.56,  46.89,  48.24,  49.61,\n",
       "        51.  ,  52.41,  53.84,  55.29,  56.76,  58.25,  59.76,  61.29,\n",
       "        62.84,  64.41,  66.  ,  67.61,  69.24,  70.89,  72.56,  74.25,\n",
       "        75.96,  77.69,  79.44,  81.21,  83.  ,  84.81,  86.64,  88.49,\n",
       "        90.36,  92.25,  94.16,  96.09,  98.04, 100.01, 102.  , 104.01,\n",
       "       106.04, 108.09, 110.16, 112.25, 114.36, 116.49, 118.64, 120.81])), Scatter(colors=['#475A77'], interactions={'hover': 'tooltip'}, scales={'x': LinearScale(max=10.0, min=-10.0), 'y': LinearScale(max=150.0, min=-50.0)}, scales_metadata={'x': {'orientation': 'horizontal', 'dimension': 'x'}, 'y': {'orientation': 'vertical', 'dimension': 'y'}, 'color': {'dimension': 'color'}, 'size': {'dimension': 'size'}, 'opacity': {'dimension': 'opacity'}, 'rotation': {'dimension': 'rotation'}, 'skew': {'dimension': 'skew'}}, stroke='#475A77', tooltip_style={'opacity': 0.9}, x=array([2.]), y=array([11.])), Scatter(colors=['#475A77'], interactions={'hover': 'tooltip'}, scales={'x': LinearScale(max=10.0, min=-10.0), 'y': LinearScale(max=150.0, min=-50.0)}, scales_metadata={'x': {'orientation': 'horizontal', 'dimension': 'x'}, 'y': {'orientation': 'vertical', 'dimension': 'y'}, 'color': {'dimension': 'color'}, 'size': {'dimension': 'size'}, 'opacity': {'dimension': 'opacity'}, 'rotation': {'dimension': 'rotation'}, 'skew': {'dimension': 'skew'}}, stroke='#475A77', tooltip_style={'opacity': 0.9}, x=array([8.]), y=array([83.])), Lines(colors=['#475A77'], interactions={'hover': 'tooltip'}, scales={'x': LinearScale(max=10.0, min=-10.0), 'y': LinearScale(max=150.0, min=-50.0)}, scales_metadata={'x': {'orientation': 'horizontal', 'dimension': 'x'}, 'y': {'orientation': 'vertical', 'dimension': 'y'}, 'color': {'dimension': 'color'}}, tooltip_style={'opacity': 0.9}, x=array([2., 8.]), y=array([11., 83.])), Lines(colors=['#475A77'], interactions={'hover': 'tooltip'}, scales={'x': LinearScale(max=10.0, min=-10.0), 'y': LinearScale(max=150.0, min=-50.0)}, scales_metadata={'x': {'orientation': 'horizontal', 'dimension': 'x'}, 'y': {'orientation': 'vertical', 'dimension': 'y'}, 'color': {'dimension': 'color'}}, tooltip_style={'opacity': 0.9}, x=array([2., 2.]), y=array([-50.,  11.])), Lines(colors=['#475A77'], interactions={'hover': 'tooltip'}, scales={'x': LinearScale(max=10.0, min=-10.0), 'y': LinearScale(max=150.0, min=-50.0)}, scales_metadata={'x': {'orientation': 'horizontal', 'dimension': 'x'}, 'y': {'orientation': 'vertical', 'dimension': 'y'}, 'color': {'dimension': 'color'}}, tooltip_style={'opacity': 0.9}, x=array([8., 8.]), y=array([-50.,  83.])), Lines(colors=['#475A77'], interactions={'hover': 'tooltip'}, scales={'x': LinearScale(max=10.0, min=-10.0), 'y': LinearScale(max=150.0, min=-50.0)}, scales_metadata={'x': {'orientation': 'horizontal', 'dimension': 'x'}, 'y': {'orientation': 'vertical', 'dimension': 'y'}, 'color': {'dimension': 'color'}}, tooltip_style={'opacity': 0.9}, x=array([5., 5.]), y=array([47., 38.]))], scale_x=LinearScale(allow_padding=False, max=1.0, min=0.0), scale_y=LinearScale(allow_padding=False, max=1.0, min=0.0))))"
      ]
     },
     "metadata": {},
     "output_type": "display_data"
    }
   ],
   "source": [
    "nbi.Figure(\n",
    "    options = {'xlim': (-10, 10), 'ylim':(-50, 150)},\n",
    "    widgets={'x1': x1_slider, 'x2': x2_slider, 'lambda': lambda_slider},\n",
    "    functions={x1_x: ['x1'], x1_y: ['x1'],\n",
    "               x2_x: ['x2'], x2_y: ['x2'],\n",
    "               line_xs: ['x1', 'x2'], line_ys: ['x1', 'x2'],\n",
    "               line_x1: ['x1'], line_x2: ['x2'],\n",
    "               line_y1: ['x1'], line_y2:['x2'],\n",
    "               lambda_x: ['x1', 'x2', 'lambda'], lambda_y: ['x1', 'x2', 'lambda']\n",
    "              },\n",
    "    marks={'curve': nbi.Line(xs, f(xs)), \n",
    "           'x1_dot': nbi.Scatter(x1_x, x1_y),\n",
    "           'x2_dot': nbi.Scatter(x2_x, x2_y),\n",
    "           'line': nbi.Line(line_xs, line_ys),\n",
    "           'line_x1': nbi.Line(line_x1, line_y1),\n",
    "           'line_x2': nbi.Line(line_x2, line_y2),\n",
    "           'lambda' : nbi.Line(lambda_x, lambda_y)\n",
    "          }\n",
    "    )"
   ]
  },
  {
   "cell_type": "code",
   "execution_count": 23,
   "metadata": {},
   "outputs": [],
   "source": [
    "%matplotlib inline"
   ]
  },
  {
   "cell_type": "code",
   "execution_count": 1,
   "metadata": {},
   "outputs": [
    {
     "ename": "NameError",
     "evalue": "name 'bq' is not defined",
     "output_type": "error",
     "traceback": [
      "\u001b[0;31m---------------------------------------------------------------------------\u001b[0m",
      "\u001b[0;31mNameError\u001b[0m                                 Traceback (most recent call last)",
      "\u001b[0;32m<ipython-input-1-9517e19656a7>\u001b[0m in \u001b[0;36m<module>\u001b[0;34m()\u001b[0m\n\u001b[0;32m----> 1\u001b[0;31m \u001b[0mx_scale\u001b[0m \u001b[0;34m=\u001b[0m \u001b[0mbq\u001b[0m\u001b[0;34m.\u001b[0m\u001b[0mscales\u001b[0m\u001b[0;34m.\u001b[0m\u001b[0mLinearScale\u001b[0m\u001b[0;34m(\u001b[0m\u001b[0;34m)\u001b[0m\u001b[0;34m\u001b[0m\u001b[0m\n\u001b[0m\u001b[1;32m      2\u001b[0m \u001b[0my_scale\u001b[0m \u001b[0;34m=\u001b[0m \u001b[0mbq\u001b[0m\u001b[0;34m.\u001b[0m\u001b[0mscales\u001b[0m\u001b[0;34m.\u001b[0m\u001b[0mLinearScale\u001b[0m\u001b[0;34m(\u001b[0m\u001b[0;34m)\u001b[0m\u001b[0;34m\u001b[0m\u001b[0m\n\u001b[1;32m      3\u001b[0m \u001b[0ma\u001b[0m \u001b[0;34m=\u001b[0m \u001b[0mbq\u001b[0m\u001b[0;34m.\u001b[0m\u001b[0mLines\u001b[0m\u001b[0;34m(\u001b[0m\u001b[0mx\u001b[0m\u001b[0;34m=\u001b[0m\u001b[0;34m[\u001b[0m\u001b[0;36m1\u001b[0m\u001b[0;34m,\u001b[0m\u001b[0;36m2\u001b[0m\u001b[0;34m,\u001b[0m\u001b[0;36m3\u001b[0m\u001b[0;34m]\u001b[0m\u001b[0;34m,\u001b[0m \u001b[0my\u001b[0m\u001b[0;34m=\u001b[0m\u001b[0;34m[\u001b[0m\u001b[0;36m1\u001b[0m\u001b[0;34m,\u001b[0m\u001b[0;36m2\u001b[0m\u001b[0;34m,\u001b[0m\u001b[0;36m3\u001b[0m\u001b[0;34m]\u001b[0m\u001b[0;34m,\u001b[0m \u001b[0mscales\u001b[0m\u001b[0;34m=\u001b[0m\u001b[0;34m{\u001b[0m\u001b[0;34m'x'\u001b[0m\u001b[0;34m:\u001b[0m\u001b[0mx_scale\u001b[0m\u001b[0;34m,\u001b[0m \u001b[0;34m'y'\u001b[0m\u001b[0;34m:\u001b[0m\u001b[0my_scale\u001b[0m\u001b[0;34m}\u001b[0m\u001b[0;34m,\u001b[0m \u001b[0mline_style\u001b[0m\u001b[0;34m=\u001b[0m\u001b[0;34m'dotted'\u001b[0m\u001b[0;34m)\u001b[0m\u001b[0;34m\u001b[0m\u001b[0m\n\u001b[1;32m      4\u001b[0m \u001b[0;34m\u001b[0m\u001b[0m\n\u001b[1;32m      5\u001b[0m fig = bq.Figure(marks=[a], layout=widgets.Layout(width='200px', height='200px'), fig_margin={\n",
      "\u001b[0;31mNameError\u001b[0m: name 'bq' is not defined"
     ]
    }
   ],
   "source": [
    "x_scale = bq.scales.LinearScale()\n",
    "y_scale = bq.scales.LinearScale()\n",
    "a = bq.Lines(x=[1,2,3], y=[1,2,3], scales={'x':x_scale, 'y':y_scale}, line_style='dotted')\n",
    "\n",
    "fig = bq.Figure(marks=[a], layout=widgets.Layout(width='200px', height='200px'), fig_margin={\n",
    "        'top': 0,\n",
    "        'bottom': 0,\n",
    "        'left': 0,\n",
    "        'right': 0\n",
    "    })\n",
    "fig"
   ]
  },
  {
   "cell_type": "markdown",
   "metadata": {},
   "source": []
  }
 ],
 "metadata": {
  "kernelspec": {
   "display_name": "Python 3",
   "language": "python",
   "name": "python3"
  },
  "language_info": {
   "codemirror_mode": {
    "name": "ipython",
    "version": 3
   },
   "file_extension": ".py",
   "mimetype": "text/x-python",
   "name": "python",
   "nbconvert_exporter": "python",
   "pygments_lexer": "ipython3",
   "version": "3.6.2"
  }
 },
 "nbformat": 4,
 "nbformat_minor": 2
}
